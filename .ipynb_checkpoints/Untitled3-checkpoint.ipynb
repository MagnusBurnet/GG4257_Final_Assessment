{
 "cells": [
  {
   "cell_type": "code",
   "execution_count": 1,
   "id": "8f9271a4-eb85-49e1-a9bd-ad5eaf8985fe",
   "metadata": {},
   "outputs": [
    {
     "name": "stderr",
     "output_type": "stream",
     "text": [
      "/Users/magnusburnet/miniforge-pypy3/envs/ua/lib/python3.10/site-packages/osmnx/_overpass.py:211: UserWarning: This area is 15 times your configured Overpass max query area size. It will automatically be divided up into multiple sub-queries accordingly. This may take a long time.\n",
      "  multi_poly_proj = utils_geo._consolidate_subdivide_geometry(poly_proj)\n",
      "/Users/magnusburnet/miniforge-pypy3/envs/ua/lib/python3.10/site-packages/osmnx/_overpass.py:211: UserWarning: This area is 23 times your configured Overpass max query area size. It will automatically be divided up into multiple sub-queries accordingly. This may take a long time.\n",
      "  multi_poly_proj = utils_geo._consolidate_subdivide_geometry(poly_proj)\n"
     ]
    }
   ],
   "source": [
    "import osmnx as ox\n",
    "\n",
    "# List of regions in Scotland\n",
    "regions = ['Highland', 'Western Isles', 'Orkney Islands', 'Shetland Islands',\n",
    "       'Aberdeen City', 'Aberdeenshire', 'Moray', 'Perth and Kinross',\n",
    "       'Dundee City', 'Angus', 'Fife', 'Edinburgh, City of',\n",
    "       'Scottish Borders', 'West Lothian', 'Midlothian', 'East Lothian',\n",
    "       'Stirling', 'Falkirk', 'Clackmannanshire', 'Glasgow City',\n",
    "       'East Dunbartonshire', 'East Renfrewshire', 'Renfrewshire',\n",
    "       'Inverclyde', 'Argyll and Bute', 'West Dunbartonshire',\n",
    "       'North Lanarkshire', 'South Lanarkshire', 'North Ayrshire',\n",
    "       'East Ayrshire', 'South Ayrshire', 'Dumfries and Galloway']\n",
    "\n",
    "graphs = []\n",
    "for region in regions:\n",
    "    graph = ox.graph_from_place(region, network_type='drive')\n",
    "    graphs.append(graph)"
   ]
  },
  {
   "cell_type": "code",
   "execution_count": 6,
   "id": "9c115de2-b218-4175-8519-a740b5e80420",
   "metadata": {},
   "outputs": [],
   "source": [
    "# Compose all the regional graphs into one\n",
    "import networkx as nx\n",
    "scotland_graph = nx.compose_all(graphs)"
   ]
  },
  {
   "cell_type": "code",
   "execution_count": 14,
   "id": "ff4835e6-df4c-4852-b92e-98d0b174dc14",
   "metadata": {},
   "outputs": [
    {
     "data": {
      "image/png": "[encoded data removed]",
      "text/plain": [
       "<Figure size 800x800 with 1 Axes>"
      ]
     },
     "metadata": {},
     "output_type": "display_data"
    }
   ],
   "source": [
    "fig, ax = ox.plot_graph(scotland_graph, node_size=5, edge_linewidth=0.5)"
   ]
  },
  {
   "cell_type": "code",
   "execution_count": null,
   "id": "3320ad08-ae4c-4774-87c3-c8955b614983",
   "metadata": {},
   "outputs": [],
   "source": [
    "betweenness_centrality = nx.betweenness_centrality(scotland_graph)"
   ]
  }
 ],
 "metadata": {
  "kernelspec": {
   "display_name": "Python 3 (ipykernel)",
   "language": "python",
   "name": "python3"
  },
  "language_info": {
   "codemirror_mode": {
    "name": "ipython",
    "version": 3
   },
   "file_extension": ".py",
   "mimetype": "text/x-python",
   "name": "python",
   "nbconvert_exporter": "python",
   "pygments_lexer": "ipython3",
   "version": "3.10.13"
  }
 },
 "nbformat": 4,
 "nbformat_minor": 5
}
